{
 "cells": [
  {
   "cell_type": "markdown",
   "id": "10dfef7c",
   "metadata": {},
   "source": [
    "# Import Section"
   ]
  },
  {
   "cell_type": "code",
   "execution_count": 33,
   "id": "cfc9401c",
   "metadata": {},
   "outputs": [],
   "source": [
    "import tensorflow as tf\n",
    "from tensorflow.keras.models import Model, Sequential\n",
    "from tensorflow.keras.layers import Embedding, LSTM, Dense, Dropout, Bidirectional\n",
    "from tensorflow.keras.preprocessing.text import Tokenizer\n",
    "from tensorflow.keras.preprocessing.sequence import pad_sequences\n",
    "from tensorflow.keras.callbacks import ReduceLROnPlateau, EarlyStopping\n",
    "from sklearn.model_selection import train_test_split\n",
    "from sklearn.metrics import accuracy_score, precision_score, recall_score, f1_score\n",
    "import pandas as pd\n",
    "import numpy as np"
   ]
  },
  {
   "cell_type": "markdown",
   "id": "94d8123f-f271-4c64-b488-cefc2019b1c6",
   "metadata": {
    "tags": []
   },
   "source": [
    "# Dataset Processing"
   ]
  },
  {
   "cell_type": "code",
   "execution_count": 34,
   "id": "be51ff66",
   "metadata": {},
   "outputs": [],
   "source": [
    "positive_reviews = pd.read_csv(\"dataset\\\\positive.csv\")\n",
    "negative_reviews = pd.read_csv(\"dataset\\\\negative.csv\")\n",
    "\n",
    "positive_reviews['label'] = 1\n",
    "negative_reviews['label'] = 0\n",
    "data = pd.concat([positive_reviews, negative_reviews]).reset_index(drop=True)\n",
    "\n",
    "train_texts, test_texts, train_labels, test_labels = train_test_split(\n",
    "    data['0'], data['label'], test_size=0.2, stratify=data['label'], random_state=42\n",
    ")"
   ]
  },
  {
   "cell_type": "markdown",
   "id": "6382dde6-bd4f-4757-a9c5-4ee16ea20e48",
   "metadata": {},
   "source": [
    "**_Reset indices to avoid KeyError during data access_**"
   ]
  },
  {
   "cell_type": "code",
   "execution_count": 35,
   "id": "1a2c6b85-dcfc-4ee6-85a1-90c78b2ea292",
   "metadata": {
    "tags": []
   },
   "outputs": [],
   "source": [
    "train_texts = train_texts.reset_index(drop=True)\n",
    "test_texts = test_texts.reset_index(drop=True)\n",
    "train_labels = train_labels.reset_index(drop=True)\n",
    "test_labels = test_labels.reset_index(drop=True)"
   ]
  },
  {
   "cell_type": "markdown",
   "id": "6c6cc3a1-858f-4ebf-bee8-05dfa540f1aa",
   "metadata": {},
   "source": [
    "**_Tokenization_**"
   ]
  },
  {
   "cell_type": "code",
   "execution_count": 36,
   "id": "8203b25a-b403-4785-aa1d-f8326205e595",
   "metadata": {
    "tags": []
   },
   "outputs": [],
   "source": [
    "tokenizer = Tokenizer(num_words=20000, oov_token=\"<OOV>\")\n",
    "tokenizer.fit_on_texts(data['0'])\n",
    "sequences = tokenizer.texts_to_sequences(data['0'])"
   ]
  },
  {
   "cell_type": "markdown",
   "id": "edd01760-375a-45d8-9236-32157df7cedb",
   "metadata": {},
   "source": [
    "**_Padding_**"
   ]
  },
  {
   "cell_type": "code",
   "execution_count": 37,
   "id": "cd369d7b-9ac0-461f-85b7-0b1b75469a1a",
   "metadata": {
    "tags": []
   },
   "outputs": [],
   "source": [
    "max_length = 256\n",
    "X = pad_sequences(sequences, maxlen=max_length, padding='post')\n",
    "y = data['label'].values"
   ]
  },
  {
   "cell_type": "markdown",
   "id": "1015c546-fb4a-4185-9a3c-d9b03f912866",
   "metadata": {
    "tags": []
   },
   "source": [
    "**_Data Split_**"
   ]
  },
  {
   "cell_type": "code",
   "execution_count": 38,
   "id": "af265c79-f463-4526-966a-db2bb29ee946",
   "metadata": {
    "tags": []
   },
   "outputs": [],
   "source": [
    "X_train, X_test, y_train, y_test = train_test_split(X, y, test_size=0.2, random_state=42)"
   ]
  },
  {
   "cell_type": "markdown",
   "id": "1d8ee42b-75ad-4cad-81b4-3eca8abbe0b9",
   "metadata": {},
   "source": [
    "# Model"
   ]
  },
  {
   "cell_type": "markdown",
   "id": "8572d51c-79d8-44a3-ba28-e11fc8aac535",
   "metadata": {
    "tags": []
   },
   "source": [
    "**_Hyperparameters_**"
   ]
  },
  {
   "cell_type": "code",
   "execution_count": 39,
   "id": "f7014f98",
   "metadata": {},
   "outputs": [],
   "source": [
    "embedding_dim =128\n",
    "lstm_units = 128\n",
    "dropout_rate = 0.6\n",
    "learning_rate = 0.0001 "
   ]
  },
  {
   "cell_type": "markdown",
   "id": "fdc993b8-9e04-4c2f-b73e-aac42d6b3622",
   "metadata": {
    "tags": []
   },
   "source": [
    "**_Model Definition_**"
   ]
  },
  {
   "cell_type": "code",
   "execution_count": 40,
   "id": "5b46fcd5-ca79-4f9c-8f65-24d3583f0c9a",
   "metadata": {
    "tags": []
   },
   "outputs": [],
   "source": [
    "model = Sequential([\n",
    "    Embedding(input_dim=20000, output_dim=embedding_dim, input_length=max_length),\n",
    "    Bidirectional(LSTM(lstm_units, return_sequences=False)),\n",
    "    Dropout(dropout_rate),\n",
    "    Dense(32, activation='relu', kernel_regularizer=tf.keras.regularizers.l2(0.01)),\n",
    "    Dropout(dropout_rate),\n",
    "    Dense(1, activation='sigmoid', kernel_regularizer=tf.keras.regularizers.l2(0.01))  \n",
    "])"
   ]
  },
  {
   "cell_type": "markdown",
   "id": "ca4311c0-e707-4248-8160-d70c7903458e",
   "metadata": {
    "tags": []
   },
   "source": [
    "**_Compilation_**"
   ]
  },
  {
   "cell_type": "code",
   "execution_count": 41,
   "id": "35699082-b6e4-4096-9aeb-49e2bd6a0e14",
   "metadata": {
    "tags": []
   },
   "outputs": [],
   "source": [
    "model.compile(\n",
    "    optimizer=tf.keras.optimizers.Adam(learning_rate=learning_rate),\n",
    "    loss='binary_crossentropy',\n",
    "    metrics=['accuracy']\n",
    ")"
   ]
  },
  {
   "cell_type": "markdown",
   "id": "45f7d6ab-226a-4e6a-9ff0-3a2e2a9701d0",
   "metadata": {
    "tags": []
   },
   "source": [
    "**_Structure_**"
   ]
  },
  {
   "cell_type": "code",
   "execution_count": 42,
   "id": "5a0c7501-6618-49ba-97b2-bd888a72b382",
   "metadata": {
    "tags": []
   },
   "outputs": [
    {
     "name": "stdout",
     "output_type": "stream",
     "text": [
      "Model: \"sequential_2\"\n",
      "_________________________________________________________________\n",
      " Layer (type)                Output Shape              Param #   \n",
      "=================================================================\n",
      " embedding_2 (Embedding)     (None, 256, 128)          2560000   \n",
      "                                                                 \n",
      " bidirectional_2 (Bidirectio  (None, 256)              263168    \n",
      " nal)                                                            \n",
      "                                                                 \n",
      " dropout_4 (Dropout)         (None, 256)               0         \n",
      "                                                                 \n",
      " dense_4 (Dense)             (None, 32)                8224      \n",
      "                                                                 \n",
      " dropout_5 (Dropout)         (None, 32)                0         \n",
      "                                                                 \n",
      " dense_5 (Dense)             (None, 1)                 33        \n",
      "                                                                 \n",
      "=================================================================\n",
      "Total params: 2,831,425\n",
      "Trainable params: 2,831,425\n",
      "Non-trainable params: 0\n",
      "_________________________________________________________________\n"
     ]
    }
   ],
   "source": [
    "model.summary()"
   ]
  },
  {
   "cell_type": "markdown",
   "id": "eb8b84c3-5854-440c-88c4-00f7f7928c10",
   "metadata": {},
   "source": [
    "# Train"
   ]
  },
  {
   "cell_type": "code",
   "execution_count": 43,
   "id": "a47ec8d1",
   "metadata": {},
   "outputs": [
    {
     "name": "stdout",
     "output_type": "stream",
     "text": [
      "Epoch 1/100\n",
      "280/280 [==============================] - 12s 36ms/step - loss: 1.1348 - accuracy: 0.5049 - val_loss: 1.0183 - val_accuracy: 0.5339 - lr: 1.0000e-04\n",
      "Epoch 2/100\n",
      "280/280 [==============================] - 9s 34ms/step - loss: 0.9050 - accuracy: 0.6401 - val_loss: 0.8466 - val_accuracy: 0.6946 - lr: 1.0000e-04\n",
      "Epoch 3/100\n",
      "280/280 [==============================] - 10s 35ms/step - loss: 0.6324 - accuracy: 0.8189 - val_loss: 0.4517 - val_accuracy: 0.8777 - lr: 1.0000e-04\n",
      "Epoch 4/100\n",
      "280/280 [==============================] - 10s 34ms/step - loss: 0.5186 - accuracy: 0.8471 - val_loss: 0.4318 - val_accuracy: 0.8750 - lr: 1.0000e-04\n",
      "Epoch 5/100\n",
      "280/280 [==============================] - 10s 37ms/step - loss: 0.5007 - accuracy: 0.8508 - val_loss: 0.3384 - val_accuracy: 0.9049 - lr: 1.0000e-04\n",
      "Epoch 6/100\n",
      "280/280 [==============================] - 10s 36ms/step - loss: 0.2640 - accuracy: 0.9531 - val_loss: 0.3040 - val_accuracy: 0.9170 - lr: 1.0000e-04\n",
      "Epoch 7/100\n",
      "280/280 [==============================] - 10s 36ms/step - loss: 0.2214 - accuracy: 0.9648 - val_loss: 0.3316 - val_accuracy: 0.9201 - lr: 1.0000e-04\n",
      "Epoch 8/100\n",
      "280/280 [==============================] - 10s 36ms/step - loss: 0.1735 - accuracy: 0.9758 - val_loss: 0.3097 - val_accuracy: 0.9201 - lr: 1.0000e-04\n",
      "Epoch 9/100\n",
      "280/280 [==============================] - 10s 35ms/step - loss: 0.1772 - accuracy: 0.9705 - val_loss: 0.2861 - val_accuracy: 0.9179 - lr: 1.0000e-04\n",
      "Epoch 10/100\n",
      "280/280 [==============================] - 10s 35ms/step - loss: 0.1463 - accuracy: 0.9811 - val_loss: 0.3109 - val_accuracy: 0.9170 - lr: 1.0000e-04\n",
      "Epoch 11/100\n",
      "280/280 [==============================] - 10s 35ms/step - loss: 0.1299 - accuracy: 0.9853 - val_loss: 0.3605 - val_accuracy: 0.9174 - lr: 1.0000e-04\n",
      "Epoch 12/100\n",
      "279/280 [============================>.] - ETA: 0s - loss: 0.1005 - accuracy: 0.9927\n",
      "Epoch 12: ReduceLROnPlateau reducing learning rate to 4.999999873689376e-05.\n",
      "280/280 [==============================] - 10s 35ms/step - loss: 0.1004 - accuracy: 0.9927 - val_loss: 0.4485 - val_accuracy: 0.9107 - lr: 1.0000e-04\n",
      "Epoch 13/100\n",
      "280/280 [==============================] - 10s 36ms/step - loss: 0.1016 - accuracy: 0.9898 - val_loss: 0.4109 - val_accuracy: 0.8326 - lr: 5.0000e-05\n",
      "Epoch 14/100\n",
      "280/280 [==============================] - 10s 36ms/step - loss: 0.1098 - accuracy: 0.9866 - val_loss: 0.3465 - val_accuracy: 0.9183 - lr: 5.0000e-05\n"
     ]
    }
   ],
   "source": [
    "batch_size = 32\n",
    "epochs = 100\n",
    "\n",
    "with tf.device('/GPU:0'):\n",
    "    reduce_lr = ReduceLROnPlateau(\n",
    "    monitor='val_loss', factor=0.5, patience=3, verbose=1, min_lr=1e-6\n",
    "    )\n",
    "    early_stopping = EarlyStopping(\n",
    "    monitor='val_loss',        \n",
    "    patience=5,                \n",
    "    min_delta=0.001    \n",
    "    )\n",
    "    history = model.fit(\n",
    "        X_train, y_train,\n",
    "        validation_split=0.2,\n",
    "        batch_size=batch_size,\n",
    "        epochs=epochs,\n",
    "        verbose=1,\n",
    "        callbacks=[reduce_lr, early_stopping]\n",
    "    )\n"
   ]
  },
  {
   "cell_type": "markdown",
   "id": "4bb35c25-c9c3-47cf-a1e9-e6c67e105b39",
   "metadata": {
    "tags": []
   },
   "source": [
    "# Test"
   ]
  },
  {
   "cell_type": "markdown",
   "id": "91527a1a-9f1a-4fae-9836-412bdc0dae0e",
   "metadata": {},
   "source": [
    "**_Prediction_**"
   ]
  },
  {
   "cell_type": "code",
   "execution_count": 44,
   "id": "fa49d7f6",
   "metadata": {},
   "outputs": [
    {
     "name": "stdout",
     "output_type": "stream",
     "text": [
      "88/88 [==============================] - 1s 8ms/step\n"
     ]
    }
   ],
   "source": [
    "y_pred = model.predict(X_test)\n",
    "y_pred_classes = (y_pred > 0.5).astype(int)"
   ]
  },
  {
   "cell_type": "markdown",
   "id": "34154eb0-93ed-4db2-b599-e132cc81c74f",
   "metadata": {},
   "source": [
    "**_Metrics_**"
   ]
  },
  {
   "cell_type": "code",
   "execution_count": 45,
   "id": "690ab915-647a-4065-93d4-8682ce6becb3",
   "metadata": {
    "tags": []
   },
   "outputs": [
    {
     "name": "stdout",
     "output_type": "stream",
     "text": [
      "Accuracy: 0.9214\n",
      "Precision: 0.9158\n",
      "Recall: 0.9300\n",
      "F1-score: 0.9229\n"
     ]
    }
   ],
   "source": [
    "accuracy = accuracy_score(y_test, y_pred_classes)\n",
    "precision = precision_score(y_test, y_pred_classes)\n",
    "recall = recall_score(y_test, y_pred_classes)\n",
    "f1 = f1_score(y_test, y_pred_classes)\n",
    "\n",
    "print(f\"Accuracy: {accuracy:.4f}\")\n",
    "print(f\"Precision: {precision:.4f}\")\n",
    "print(f\"Recall: {recall:.4f}\")\n",
    "print(f\"F1-score: {f1:.4f}\")"
   ]
  },
  {
   "cell_type": "markdown",
   "id": "1e8fa9a9-d02c-46d0-ab03-8b794b2fa939",
   "metadata": {},
   "source": [
    "# Visualization"
   ]
  },
  {
   "cell_type": "code",
   "execution_count": 46,
   "id": "02cc2a38",
   "metadata": {},
   "outputs": [
    {
     "data": {
      "image/png": "[encoded data removed]",
      "text/plain": [
       "<Figure size 640x480 with 1 Axes>"
      ]
     },
     "metadata": {},
     "output_type": "display_data"
    },
    {
     "data": {
      "image/png": "[encoded data removed]",
      "text/plain": [
       "<Figure size 640x480 with 1 Axes>"
      ]
     },
     "metadata": {},
     "output_type": "display_data"
    }
   ],
   "source": [
    "import matplotlib.pyplot as plt\n",
    "\n",
    "\n",
    "plt.plot(history.history['loss'], label='Train Loss')\n",
    "plt.plot(history.history['val_loss'], label='Validation Loss')\n",
    "plt.xlabel('Epochs')\n",
    "plt.ylabel('Loss')\n",
    "plt.legend()\n",
    "plt.title('Training and Validation Loss')\n",
    "plt.show()\n",
    "\n",
    "\n",
    "plt.plot(history.history['accuracy'], label='Train Accuracy')\n",
    "plt.plot(history.history['val_accuracy'], label='Validation Accuracy')\n",
    "plt.xlabel('Epochs')\n",
    "plt.ylabel('Accuracy')\n",
    "plt.legend()\n",
    "plt.title('Training and Validation Accuracy')\n",
    "plt.show()\n"
   ]
  },
  {
   "cell_type": "code",
   "execution_count": null,
   "id": "ac1538cf-cb19-4ad9-9496-325407bae858",
   "metadata": {},
   "outputs": [],
   "source": []
  }
 ],
 "metadata": {
  "kernelspec": {
   "display_name": "TF_ENV (GPU)",
   "language": "python",
   "name": "new_gpu"
  },
  "language_info": {
   "codemirror_mode": {
    "name": "ipython",
    "version": 3
   },
   "file_extension": ".py",
   "mimetype": "text/x-python",
   "name": "python",
   "nbconvert_exporter": "python",
   "pygments_lexer": "ipython3",
   "version": "3.7.12"
  }
 },
 "nbformat": 4,
 "nbformat_minor": 5
}
